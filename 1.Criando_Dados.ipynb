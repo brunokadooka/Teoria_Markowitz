{
 "cells": [
  {
   "cell_type": "markdown",
   "id": "b396cd4b",
   "metadata": {},
   "source": [
    "# 1º Notebook - Dados Brutos"
   ]
  },
  {
   "cell_type": "markdown",
   "id": "a52c3cad",
   "metadata": {},
   "source": [
    "Este notebook serve para puxar os dados brutos. O primeiro dataset que será puxado é a composição atual do Índice Ibovespa (01/04/2025). Este dataset servirá para, além de mostrar os ativos na composição, indicar quais são seus respectivos pesos na carteira.\n",
    "\n",
    "Após puxar a composição do Ibovespa, será preciso fazer algumas avaliações que seriam importantes para uma análise: tamanho da empresa, quanto tempo a empresa foi criada, o tempo que está na bolsa. Essas informações estão em alguns sites de análise de investimento, assim sendo, devemos utilizar o *web scraping* para puxar estes dados. Portanto, ao final do *scraping*, vamos juntar estes dois datasets em um só, sendo a carteira do Ibovespa com informações adicionais.\n",
    "\n",
    "Além disso, é preciso puxar os dados de cotação dos ativos. Com a biblioteca *yahoofinance* ou *yfinance*, podemos puxar a cotação de maior período dos ativos que são listados no Ibovespa."
   ]
  },
  {
   "cell_type": "code",
   "execution_count": 1,
   "id": "d028348b",
   "metadata": {},
   "outputs": [],
   "source": [
    "# imports\n",
    "import yfinance as yf\n",
    "import pandas as pd\n",
    "import numpy as np\n",
    "import sys\n",
    "\n",
    "import warnings\n",
    "warnings.filterwarnings('ignore')"
   ]
  },
  {
   "cell_type": "code",
   "execution_count": 2,
   "id": "4a5f5b4b",
   "metadata": {},
   "outputs": [],
   "source": [
    "# Configurando o pandas para o máximo de colunas ao mostrar dataframes\n",
    "pd.set_option('display.max_columns', None)"
   ]
  },
  {
   "cell_type": "markdown",
   "id": "75d6ce90",
   "metadata": {},
   "source": [
    "## 1.1 Importação dos Dados"
   ]
  },
  {
   "cell_type": "markdown",
   "id": "22a46214",
   "metadata": {},
   "source": [
    "**Fonte dos Dados**\n",
    "\n",
    "Abaixo baixamos um arquivo csv que contem a composição da Carteira do Ibovespa atualizada (01/04/2025).\n",
    "\n",
    "[Este link](https://www.b3.com.br/pt_br/market-data-e-indices/indices/indices-amplos/indice-ibovespa-ibovespa-composicao-da-carteira.htm) leva diretamente ao arquivo. "
   ]
  },
  {
   "cell_type": "code",
   "execution_count": 3,
   "id": "99b9f6f8",
   "metadata": {},
   "outputs": [],
   "source": [
    "# Importando os dados\n",
    "df_comp_ibov = pd.read_csv('data/composicao_ibovespa.csv', encoding='ISO-8859-1', sep=';', thousands='.', decimal=',')\n",
    "\n",
    "# Ordenando pela ordem de participação\n",
    "df_comp_ibov = df_comp_ibov.sort_values(by=\"Part. (%)\", ascending=False)"
   ]
  },
  {
   "cell_type": "code",
   "execution_count": 4,
   "id": "a179e182",
   "metadata": {},
   "outputs": [
    {
     "data": {
      "text/html": [
       "<div>\n",
       "<style scoped>\n",
       "    .dataframe tbody tr th:only-of-type {\n",
       "        vertical-align: middle;\n",
       "    }\n",
       "\n",
       "    .dataframe tbody tr th {\n",
       "        vertical-align: top;\n",
       "    }\n",
       "\n",
       "    .dataframe thead th {\n",
       "        text-align: right;\n",
       "    }\n",
       "</style>\n",
       "<table border=\"1\" class=\"dataframe\">\n",
       "  <thead>\n",
       "    <tr style=\"text-align: right;\">\n",
       "      <th></th>\n",
       "      <th>Código</th>\n",
       "      <th>Ação</th>\n",
       "      <th>Tipo</th>\n",
       "      <th>Qtde. Teórica</th>\n",
       "      <th>Part. (%)</th>\n",
       "    </tr>\n",
       "  </thead>\n",
       "  <tbody>\n",
       "    <tr>\n",
       "      <th>81</th>\n",
       "      <td>VALE3</td>\n",
       "      <td>VALE</td>\n",
       "      <td>ON      NM</td>\n",
       "      <td>4270903023</td>\n",
       "      <td>11.595</td>\n",
       "    </tr>\n",
       "    <tr>\n",
       "      <th>45</th>\n",
       "      <td>ITUB4</td>\n",
       "      <td>ITAUUNIBANCO</td>\n",
       "      <td>PN  EJ  N1</td>\n",
       "      <td>5272192664</td>\n",
       "      <td>7.925</td>\n",
       "    </tr>\n",
       "    <tr>\n",
       "      <th>59</th>\n",
       "      <td>PETR4</td>\n",
       "      <td>PETROBRAS</td>\n",
       "      <td>PN      N2</td>\n",
       "      <td>4431132660</td>\n",
       "      <td>7.884</td>\n",
       "    </tr>\n",
       "    <tr>\n",
       "      <th>58</th>\n",
       "      <td>PETR3</td>\n",
       "      <td>PETROBRAS</td>\n",
       "      <td>ON      N2</td>\n",
       "      <td>2255782178</td>\n",
       "      <td>4.409</td>\n",
       "    </tr>\n",
       "    <tr>\n",
       "      <th>28</th>\n",
       "      <td>ELET3</td>\n",
       "      <td>ELETROBRAS</td>\n",
       "      <td>ON      N1</td>\n",
       "      <td>1977170723</td>\n",
       "      <td>3.862</td>\n",
       "    </tr>\n",
       "    <tr>\n",
       "      <th>...</th>\n",
       "      <td>...</td>\n",
       "      <td>...</td>\n",
       "      <td>...</td>\n",
       "      <td>...</td>\n",
       "      <td>...</td>\n",
       "    </tr>\n",
       "    <tr>\n",
       "      <th>62</th>\n",
       "      <td>PETZ3</td>\n",
       "      <td>PETZ</td>\n",
       "      <td>ON      NM</td>\n",
       "      <td>293689428</td>\n",
       "      <td>0.058</td>\n",
       "    </tr>\n",
       "    <tr>\n",
       "      <th>26</th>\n",
       "      <td>CVCB3</td>\n",
       "      <td>CVC BRASIL</td>\n",
       "      <td>ON      NM</td>\n",
       "      <td>525591097</td>\n",
       "      <td>0.053</td>\n",
       "    </tr>\n",
       "    <tr>\n",
       "      <th>5</th>\n",
       "      <td>AZUL4</td>\n",
       "      <td>AZUL</td>\n",
       "      <td>PN      N2</td>\n",
       "      <td>326872005</td>\n",
       "      <td>0.051</td>\n",
       "    </tr>\n",
       "    <tr>\n",
       "      <th>50</th>\n",
       "      <td>LWSA3</td>\n",
       "      <td>LWSA</td>\n",
       "      <td>ON      NM</td>\n",
       "      <td>389635155</td>\n",
       "      <td>0.050</td>\n",
       "    </tr>\n",
       "    <tr>\n",
       "      <th>4</th>\n",
       "      <td>AMOB3</td>\n",
       "      <td>AUTOMOB</td>\n",
       "      <td>ON      NM</td>\n",
       "      <td>533959816</td>\n",
       "      <td>0.006</td>\n",
       "    </tr>\n",
       "  </tbody>\n",
       "</table>\n",
       "<p>87 rows × 5 columns</p>\n",
       "</div>"
      ],
      "text/plain": [
       "   Código          Ação        Tipo  Qtde. Teórica  Part. (%)\n",
       "81  VALE3          VALE  ON      NM     4270903023     11.595\n",
       "45  ITUB4  ITAUUNIBANCO  PN  EJ  N1     5272192664      7.925\n",
       "59  PETR4     PETROBRAS  PN      N2     4431132660      7.884\n",
       "58  PETR3     PETROBRAS  ON      N2     2255782178      4.409\n",
       "28  ELET3    ELETROBRAS  ON      N1     1977170723      3.862\n",
       "..    ...           ...         ...            ...        ...\n",
       "62  PETZ3          PETZ  ON      NM      293689428      0.058\n",
       "26  CVCB3    CVC BRASIL  ON      NM      525591097      0.053\n",
       "5   AZUL4          AZUL  PN      N2      326872005      0.051\n",
       "50  LWSA3          LWSA  ON      NM      389635155      0.050\n",
       "4   AMOB3       AUTOMOB  ON      NM      533959816      0.006\n",
       "\n",
       "[87 rows x 5 columns]"
      ]
     },
     "metadata": {},
     "output_type": "display_data"
    }
   ],
   "source": [
    "# Visualizando o arquivo\n",
    "display(df_comp_ibov)"
   ]
  },
  {
   "cell_type": "code",
   "execution_count": 5,
   "id": "a452362c",
   "metadata": {},
   "outputs": [
    {
     "data": {
      "text/plain": [
       "100.0"
      ]
     },
     "execution_count": 5,
     "metadata": {},
     "output_type": "execute_result"
    }
   ],
   "source": [
    "# Verificando a composição do Ibovespa\n",
    "df_comp_ibov['Part. (%)'].sum().round(2)"
   ]
  },
  {
   "cell_type": "markdown",
   "id": "11376a16",
   "metadata": {},
   "source": [
    "## 1.2 Web Scraping"
   ]
  },
  {
   "cell_type": "markdown",
   "id": "efdc3355",
   "metadata": {},
   "source": [
    "Seria interessante analisar a carteira do IBOV não apenas com ações destacadas, mas sim de qual setor, segmento elas pertencem, qual o tamanho de mercado de cada uma, Anos de IPO. Estas informações vamos pegar no site [Investidor10](https://investidor10.com.br/acoes)."
   ]
  },
  {
   "cell_type": "code",
   "execution_count": 6,
   "id": "741a3ebf",
   "metadata": {},
   "outputs": [
    {
     "name": "stdout",
     "output_type": "stream",
     "text": [
      "Quantidade ativos: 87\n",
      "['VALE3', 'ITUB4', 'PETR4', 'PETR3', 'ELET3', 'BBAS3', 'SBSP3', 'B3SA3', 'BBDC4', 'ABEV3', 'WEGE3', 'ITSA4', 'EMBR3', 'JBSS3', 'BPAC11', 'EQTL3', 'SUZB3', 'RENT3', 'RDOR3', 'PRIO3', 'BBSE3', 'RADL3', 'ENEV3', 'GGBR4', 'RAIL3', 'CMIG4', 'VIVT3', 'UGPA3', 'VBBR3', 'TOTS3', 'CPLE6', 'BBDC3', 'BRFS3', 'TIMS3', 'KLBN11', 'ENGI11', 'LREN3', 'ELET6', 'CCRO3', 'STBP3', 'BRAV3', 'HAPV3', 'CMIN3', 'ASAI3', 'EGIE3', 'SANB11', 'ALOS3', 'ISAE4', 'NTCO3', 'CSAN3', 'CXSE3', 'TAEE11', 'PSSA3', 'HYPE3', 'CPFE3', 'MULT3', 'CSNA3', 'CYRE3', 'GOAU4', 'MRFG3', 'FLRY3', 'RECV3', 'BRAP4', 'IRBR3', 'POMO4', 'IGTI11', 'COGN3', 'CRFB3', 'SLCE3', 'MGLU3', 'AZZA3', 'YDUQ3', 'BRKM5', 'USIM5', 'SMTO3', 'VIVA3', 'AURE3', 'RAIZ4', 'VAMO3', 'MRVE3', 'BEEF3', 'PCAR3', 'PETZ3', 'CVCB3', 'AZUL4', 'LWSA3', 'AMOB3']\n"
     ]
    }
   ],
   "source": [
    "# lista de açõs para o web scraping\n",
    "lista_ativos = df_comp_ibov['Código'].to_list()\n",
    "\n",
    "print(f\"Quantidade ativos: {len(lista_ativos)}\")\n",
    "print(lista_ativos)"
   ]
  },
  {
   "cell_type": "code",
   "execution_count": 7,
   "id": "5d5df707",
   "metadata": {},
   "outputs": [],
   "source": [
    "# Imports das bibliotecas\n",
    "from selenium import webdriver\n",
    "from selenium.webdriver.chrome.options import Options\n",
    "from time import sleep"
   ]
  },
  {
   "cell_type": "markdown",
   "id": "3fd9bf98",
   "metadata": {},
   "source": [
    "**Decisões a tomar**\n",
    "\n",
    "O uso da biblioteca *Selenium* é necessário para clicar em alguns botões do site. Infelizmente, as bibliotecas *requests* e *BeautifulSoup* não conseguem realizar essas interações.\n"
   ]
  },
  {
   "cell_type": "code",
   "execution_count": 8,
   "id": "a79b0475",
   "metadata": {},
   "outputs": [],
   "source": [
    "def botao_valores (navegador):\n",
    "    while True:\n",
    "        try:\n",
    "            # aguardar o site carregar\n",
    "            sleep(1)\n",
    "            \n",
    "            # Verificando se o botão das opcoes\n",
    "            botao_valores = navegador.find_element('xpath', '/html/body/div[4]/div[2]/main/section/div/div[5]/div[3]/div[1]/div/ul/li[2]/span/span[1]/span/span[2]')\n",
    "\n",
    "            # Clicando no botão para fechar a propaganda\n",
    "            botao_valores.click()\n",
    "            \n",
    "            sleep(1) \n",
    "            \n",
    "            #  Opção desejada de valores absolutos\n",
    "            selecionar_opcao = navegador.find_element('xpath', '/html/body/span/span/span[2]/ul/li[2]')\n",
    "            selecionar_opcao.click()\n",
    "            \n",
    "            \n",
    "            # Sai do loop se o botão for encontrado e clicado\n",
    "            break  \n",
    "        except:\n",
    "            print(\"Erro em localizar o botao\")\n",
    "            sleep(1)    "
   ]
  },
  {
   "cell_type": "code",
   "execution_count": 9,
   "id": "30dd4bc3",
   "metadata": {},
   "outputs": [],
   "source": [
    "# Funcao para localizar as informações desejadas (o quandrante pode ficar mudando)\n",
    "def localiza_info (navegador, info):\n",
    "    nro_div = 8\n",
    "    while True:       \n",
    "        try:\n",
    "            xpath_localiza = f'//*[@id=\"table-indicators-company\"]/div[{nro_div}]/a/span[1]'\n",
    "            localiza = navegador.find_element('xpath', xpath_localiza).text\n",
    "\n",
    "            if localiza == info:\n",
    "                xpath = f'//*[@id=\"table-indicators-company\"]/div[{nro_div}]/a/span[2]'\n",
    "                info = navegador.find_element('xpath', xpath).text\n",
    "                break\n",
    "            else:\n",
    "                nro_div += 1 \n",
    "        except:\n",
    "            nro_div += 1 \n",
    "            continue\n",
    "    \n",
    "    return info"
   ]
  },
  {
   "cell_type": "code",
   "execution_count": 10,
   "id": "6c0e4f9c",
   "metadata": {},
   "outputs": [],
   "source": [
    "def pegando_informacoes (ativo, navegador):\n",
    "    \n",
    "    # Constante para aguardar a proxima tarefa\n",
    "    _TIME_TASK = 0.5\n",
    "    \n",
    "    \n",
    "    # inicializando uma lista\n",
    "    lista = []\n",
    "    \n",
    "    # Passando o primeiro index ativo\n",
    "    lista.append(ativo)\n",
    "    \n",
    "    # Scraping das informações dos ativos\n",
    "    Ano_Fundacao = navegador.find_element('xpath', '//*[@id=\"data_about\"]/div[2]/div/div[1]/table/tbody/tr[5]/td[2]').text\n",
    "    lista.append(Ano_Fundacao)\n",
    "    \n",
    "    sleep(_TIME_TASK)\n",
    "    \n",
    "    Ano_Ipo = navegador.find_element('xpath', '//*[@id=\"data_about\"]/div[2]/div/div[1]/table/tbody/tr[3]/td[2]').text\n",
    "    lista.append(Ano_Ipo)\n",
    "    \n",
    "    sleep(_TIME_TASK)\n",
    "    \n",
    "    Valor_Mercado = navegador.find_element('xpath', '//*[@id=\"table-indicators-company\"]/div[1]/span[2]/div[2]').text\n",
    "    lista.append(Valor_Mercado)\n",
    "    \n",
    "    sleep(_TIME_TASK)\n",
    "    \n",
    "    Setor = localiza_info (navegador, 'Setor')\n",
    "    lista.append(Setor)\n",
    "\n",
    "    sleep(_TIME_TASK)\n",
    "    \n",
    "    Segmento = localiza_info (navegador, 'Segmento')\n",
    "    lista.append(Segmento)\n",
    "    \n",
    "    sleep(_TIME_TASK)\n",
    "    \n",
    "    return lista"
   ]
  },
  {
   "cell_type": "code",
   "execution_count": 11,
   "id": "bca92e69",
   "metadata": {},
   "outputs": [],
   "source": [
    "def web_scraping (df, lista_ativos):\n",
    "    count = 0\n",
    "    for ativo in lista_ativos:\n",
    "        count += 1\n",
    "        print(f\"Ativo: {ativo} - {count} de {len(lista_ativos)}\")\n",
    "        try:\n",
    "            # Configurar o Chrome para rodar em modo headless\n",
    "            options = Options()\n",
    "            options.headless = True\n",
    "\n",
    "            # Abrindo o navegador\n",
    "            navegador = webdriver.Chrome(options=options)\n",
    "\n",
    "            # ulr do status invest com o ativo passado\n",
    "            url = f\"https://investidor10.com.br/acoes/{ativo}\"\n",
    "\n",
    "            # Acessando a url\n",
    "            sleep(0.5)\n",
    "            navegador.get(url)\n",
    "\n",
    "            # Maximizando a janela do navegador\n",
    "            navegador.maximize_window()\n",
    "\n",
    "            # Clicando no botao para apresentar valores\n",
    "            botao_valores (navegador)\n",
    "\n",
    "            sleep(0.5)\n",
    "            # Lista com as informações\n",
    "            lista = pegando_informacoes (ativo, navegador)\n",
    "\n",
    "            df = pd.concat([df, pd.DataFrame([lista], columns=df.columns)], ignore_index=True)\n",
    "\n",
    "            navegador.quit()\n",
    "            \n",
    "        except KeyboardInterrupt:\n",
    "            print(\"\\nWeb scraping interrompido pelo usuário.\")\n",
    "            sys.exit()\n",
    "        except:\n",
    "            print(\"error\")\n",
    "            continue\n",
    "    return df"
   ]
  },
  {
   "cell_type": "code",
   "execution_count": 12,
   "id": "9e3305e4",
   "metadata": {},
   "outputs": [],
   "source": [
    "# Informações para o scraping\n",
    "columns = ['Ativo', 'Ano Fundacao', 'Ano IPO', 'Valor Mercado', 'Setor', 'Segmento']\n",
    "\n",
    "\n",
    "# Criando um dataframe para receber estas informações\n",
    "df_scraping = pd.DataFrame(columns=columns)"
   ]
  },
  {
   "cell_type": "code",
   "execution_count": 13,
   "id": "c20cdc1f",
   "metadata": {
    "scrolled": true
   },
   "outputs": [
    {
     "name": "stdout",
     "output_type": "stream",
     "text": [
      "Ativo: VALE3 - 1 de 87\n",
      "Ativo: ITUB4 - 2 de 87\n",
      "Ativo: PETR4 - 3 de 87\n",
      "Ativo: PETR3 - 4 de 87\n",
      "Ativo: ELET3 - 5 de 87\n",
      "Ativo: BBAS3 - 6 de 87\n",
      "Ativo: SBSP3 - 7 de 87\n",
      "Ativo: B3SA3 - 8 de 87\n",
      "Ativo: BBDC4 - 9 de 87\n",
      "Ativo: ABEV3 - 10 de 87\n",
      "Ativo: WEGE3 - 11 de 87\n",
      "Ativo: ITSA4 - 12 de 87\n",
      "Ativo: EMBR3 - 13 de 87\n",
      "Ativo: JBSS3 - 14 de 87\n",
      "Ativo: BPAC11 - 15 de 87\n",
      "Ativo: EQTL3 - 16 de 87\n",
      "Ativo: SUZB3 - 17 de 87\n",
      "Ativo: RENT3 - 18 de 87\n",
      "Ativo: RDOR3 - 19 de 87\n",
      "Ativo: PRIO3 - 20 de 87\n",
      "Ativo: BBSE3 - 21 de 87\n",
      "Ativo: RADL3 - 22 de 87\n",
      "Ativo: ENEV3 - 23 de 87\n",
      "Ativo: GGBR4 - 24 de 87\n",
      "Ativo: RAIL3 - 25 de 87\n",
      "Ativo: CMIG4 - 26 de 87\n",
      "Ativo: VIVT3 - 27 de 87\n",
      "Ativo: UGPA3 - 28 de 87\n",
      "Ativo: VBBR3 - 29 de 87\n",
      "Ativo: TOTS3 - 30 de 87\n",
      "Ativo: CPLE6 - 31 de 87\n",
      "Ativo: BBDC3 - 32 de 87\n",
      "Ativo: BRFS3 - 33 de 87\n",
      "Ativo: TIMS3 - 34 de 87\n",
      "Ativo: KLBN11 - 35 de 87\n",
      "Ativo: ENGI11 - 36 de 87\n",
      "Ativo: LREN3 - 37 de 87\n",
      "Ativo: ELET6 - 38 de 87\n",
      "Ativo: CCRO3 - 39 de 87\n",
      "Ativo: STBP3 - 40 de 87\n",
      "Ativo: BRAV3 - 41 de 87\n",
      "Ativo: HAPV3 - 42 de 87\n",
      "Ativo: CMIN3 - 43 de 87\n",
      "Ativo: ASAI3 - 44 de 87\n",
      "Ativo: EGIE3 - 45 de 87\n",
      "Ativo: SANB11 - 46 de 87\n",
      "Ativo: ALOS3 - 47 de 87\n",
      "Ativo: ISAE4 - 48 de 87\n",
      "Ativo: NTCO3 - 49 de 87\n",
      "Ativo: CSAN3 - 50 de 87\n",
      "Ativo: CXSE3 - 51 de 87\n",
      "Ativo: TAEE11 - 52 de 87\n",
      "Ativo: PSSA3 - 53 de 87\n",
      "Ativo: HYPE3 - 54 de 87\n",
      "Ativo: CPFE3 - 55 de 87\n",
      "Ativo: MULT3 - 56 de 87\n",
      "Ativo: CSNA3 - 57 de 87\n",
      "Ativo: CYRE3 - 58 de 87\n",
      "Ativo: GOAU4 - 59 de 87\n",
      "Ativo: MRFG3 - 60 de 87\n",
      "Ativo: FLRY3 - 61 de 87\n",
      "Ativo: RECV3 - 62 de 87\n",
      "Ativo: BRAP4 - 63 de 87\n",
      "Ativo: IRBR3 - 64 de 87\n",
      "Ativo: POMO4 - 65 de 87\n",
      "Ativo: IGTI11 - 66 de 87\n",
      "Ativo: COGN3 - 67 de 87\n",
      "Ativo: CRFB3 - 68 de 87\n",
      "Ativo: SLCE3 - 69 de 87\n",
      "Ativo: MGLU3 - 70 de 87\n",
      "Ativo: AZZA3 - 71 de 87\n",
      "Ativo: YDUQ3 - 72 de 87\n",
      "Ativo: BRKM5 - 73 de 87\n",
      "Ativo: USIM5 - 74 de 87\n",
      "Ativo: SMTO3 - 75 de 87\n",
      "Ativo: VIVA3 - 76 de 87\n",
      "Ativo: AURE3 - 77 de 87\n",
      "Ativo: RAIZ4 - 78 de 87\n",
      "Ativo: VAMO3 - 79 de 87\n",
      "Ativo: MRVE3 - 80 de 87\n",
      "Ativo: BEEF3 - 81 de 87\n",
      "Ativo: PCAR3 - 82 de 87\n",
      "Ativo: PETZ3 - 83 de 87\n",
      "Ativo: CVCB3 - 84 de 87\n",
      "Ativo: AZUL4 - 85 de 87\n",
      "Ativo: LWSA3 - 86 de 87\n",
      "Ativo: AMOB3 - 87 de 87\n",
      "CPU times: total: 7.62 s\n",
      "Wall time: 27min 23s\n"
     ]
    }
   ],
   "source": [
    "%%time\n",
    "# Fazendo web scraping para cada ativo\n",
    "df_scraping = web_scraping (df_scraping, lista_ativos)"
   ]
  },
  {
   "cell_type": "code",
   "execution_count": 14,
   "id": "4042af83",
   "metadata": {},
   "outputs": [
    {
     "data": {
      "text/html": [
       "<div>\n",
       "<style scoped>\n",
       "    .dataframe tbody tr th:only-of-type {\n",
       "        vertical-align: middle;\n",
       "    }\n",
       "\n",
       "    .dataframe tbody tr th {\n",
       "        vertical-align: top;\n",
       "    }\n",
       "\n",
       "    .dataframe thead th {\n",
       "        text-align: right;\n",
       "    }\n",
       "</style>\n",
       "<table border=\"1\" class=\"dataframe\">\n",
       "  <thead>\n",
       "    <tr style=\"text-align: right;\">\n",
       "      <th></th>\n",
       "      <th>Ativo</th>\n",
       "      <th>Ano Fundacao</th>\n",
       "      <th>Ano IPO</th>\n",
       "      <th>Valor Mercado</th>\n",
       "      <th>Setor</th>\n",
       "      <th>Segmento</th>\n",
       "    </tr>\n",
       "  </thead>\n",
       "  <tbody>\n",
       "    <tr>\n",
       "      <th>0</th>\n",
       "      <td>VALE3</td>\n",
       "      <td>1943</td>\n",
       "      <td>1970</td>\n",
       "      <td>R$ 223.954.633.000</td>\n",
       "      <td>Materiais Básicos</td>\n",
       "      <td>Minerais Metálicos</td>\n",
       "    </tr>\n",
       "    <tr>\n",
       "      <th>1</th>\n",
       "      <td>ITUB4</td>\n",
       "      <td>1943</td>\n",
       "      <td>2002</td>\n",
       "      <td>R$ 313.335.024.000</td>\n",
       "      <td>Financeiro</td>\n",
       "      <td>Bancos</td>\n",
       "    </tr>\n",
       "    <tr>\n",
       "      <th>2</th>\n",
       "      <td>PETR4</td>\n",
       "      <td>1953</td>\n",
       "      <td>1977</td>\n",
       "      <td>R$ 426.601.191.000</td>\n",
       "      <td>Petróleo, Gás e Biocombustíveis</td>\n",
       "      <td>Exploração, Refino e Distribuição</td>\n",
       "    </tr>\n",
       "    <tr>\n",
       "      <th>3</th>\n",
       "      <td>PETR3</td>\n",
       "      <td>1953</td>\n",
       "      <td>1977</td>\n",
       "      <td>R$ 426.601.191.000</td>\n",
       "      <td>Petróleo, Gás e Biocombustíveis</td>\n",
       "      <td>Exploração, Refino e Distribuição</td>\n",
       "    </tr>\n",
       "    <tr>\n",
       "      <th>4</th>\n",
       "      <td>ELET3</td>\n",
       "      <td>1962</td>\n",
       "      <td>1971</td>\n",
       "      <td>R$ 98.986.984.000</td>\n",
       "      <td>Utilidade Pública</td>\n",
       "      <td>Energia Elétrica</td>\n",
       "    </tr>\n",
       "    <tr>\n",
       "      <th>...</th>\n",
       "      <td>...</td>\n",
       "      <td>...</td>\n",
       "      <td>...</td>\n",
       "      <td>...</td>\n",
       "      <td>...</td>\n",
       "      <td>...</td>\n",
       "    </tr>\n",
       "    <tr>\n",
       "      <th>82</th>\n",
       "      <td>PETZ3</td>\n",
       "      <td>2013</td>\n",
       "      <td>2020</td>\n",
       "      <td>R$ 1.776.090.000</td>\n",
       "      <td>Consumo não Cíclico</td>\n",
       "      <td>Produtos Diversos</td>\n",
       "    </tr>\n",
       "    <tr>\n",
       "      <th>83</th>\n",
       "      <td>CVCB3</td>\n",
       "      <td>2009</td>\n",
       "      <td>2013</td>\n",
       "      <td>R$ 1.035.414.000</td>\n",
       "      <td>Consumo Cíclico</td>\n",
       "      <td>Viagens e Turismo</td>\n",
       "    </tr>\n",
       "    <tr>\n",
       "      <th>84</th>\n",
       "      <td>AZUL4</td>\n",
       "      <td>2008</td>\n",
       "      <td>2017</td>\n",
       "      <td>R$ 986.716.000</td>\n",
       "      <td>Bens Industriais</td>\n",
       "      <td>Transporte Aéreo</td>\n",
       "    </tr>\n",
       "    <tr>\n",
       "      <th>85</th>\n",
       "      <td>LWSA3</td>\n",
       "      <td>1997</td>\n",
       "      <td>2020</td>\n",
       "      <td>R$ 1.502.906.000</td>\n",
       "      <td>Tecnologia da Informação</td>\n",
       "      <td>Programas e Serviços</td>\n",
       "    </tr>\n",
       "    <tr>\n",
       "      <th>86</th>\n",
       "      <td>AMOB3</td>\n",
       "      <td></td>\n",
       "      <td>2024</td>\n",
       "      <td>R$ 454.632.000</td>\n",
       "      <td>Consumo Cíclico</td>\n",
       "      <td>Automóveis e Motocicletas</td>\n",
       "    </tr>\n",
       "  </tbody>\n",
       "</table>\n",
       "<p>87 rows × 6 columns</p>\n",
       "</div>"
      ],
      "text/plain": [
       "    Ativo Ano Fundacao Ano IPO       Valor Mercado  \\\n",
       "0   VALE3         1943    1970  R$ 223.954.633.000   \n",
       "1   ITUB4         1943    2002  R$ 313.335.024.000   \n",
       "2   PETR4         1953    1977  R$ 426.601.191.000   \n",
       "3   PETR3         1953    1977  R$ 426.601.191.000   \n",
       "4   ELET3         1962    1971   R$ 98.986.984.000   \n",
       "..    ...          ...     ...                 ...   \n",
       "82  PETZ3         2013    2020    R$ 1.776.090.000   \n",
       "83  CVCB3         2009    2013    R$ 1.035.414.000   \n",
       "84  AZUL4         2008    2017      R$ 986.716.000   \n",
       "85  LWSA3         1997    2020    R$ 1.502.906.000   \n",
       "86  AMOB3                 2024      R$ 454.632.000   \n",
       "\n",
       "                              Setor                           Segmento  \n",
       "0                 Materiais Básicos                 Minerais Metálicos  \n",
       "1                        Financeiro                             Bancos  \n",
       "2   Petróleo, Gás e Biocombustíveis  Exploração, Refino e Distribuição  \n",
       "3   Petróleo, Gás e Biocombustíveis  Exploração, Refino e Distribuição  \n",
       "4                 Utilidade Pública                   Energia Elétrica  \n",
       "..                              ...                                ...  \n",
       "82              Consumo não Cíclico                  Produtos Diversos  \n",
       "83                  Consumo Cíclico                  Viagens e Turismo  \n",
       "84                 Bens Industriais                   Transporte Aéreo  \n",
       "85         Tecnologia da Informação               Programas e Serviços  \n",
       "86                  Consumo Cíclico          Automóveis e Motocicletas  \n",
       "\n",
       "[87 rows x 6 columns]"
      ]
     },
     "metadata": {},
     "output_type": "display_data"
    }
   ],
   "source": [
    "# Visualizando as informações retiradas\n",
    "display(df_scraping)"
   ]
  },
  {
   "cell_type": "code",
   "execution_count": 15,
   "id": "f3314ca2",
   "metadata": {},
   "outputs": [],
   "source": [
    "# Preenchendo Valores vazios com NaN\n",
    "df_scraping.replace('', np.nan, inplace=True)\n",
    "\n",
    "# Preenchendo Valores NaN\n",
    "df_scraping['Ano Fundacao'] = df_scraping['Ano Fundacao'].fillna(df_scraping['Ano IPO'])"
   ]
  },
  {
   "cell_type": "code",
   "execution_count": 16,
   "id": "51253878",
   "metadata": {},
   "outputs": [],
   "source": [
    "# Realizando alguns tratamentos com string\n",
    "df_scraping['Valor Mercado'] = df_scraping['Valor Mercado'].str.replace('R$ ', '', regex=False)\n",
    "df_scraping['Valor Mercado'] = df_scraping['Valor Mercado'].str.replace('.', '', regex=False)\n",
    "df_scraping['Valor Mercado'] = pd.to_numeric(df_scraping['Valor Mercado'])"
   ]
  },
  {
   "cell_type": "code",
   "execution_count": 17,
   "id": "95a14b69",
   "metadata": {},
   "outputs": [],
   "source": [
    "# Realizando o tratamento valores inteiros\n",
    "df_scraping['Ano Fundacao'] = pd.to_numeric(df_scraping['Ano Fundacao'])\n",
    "df_scraping['Ano Fundacao'] = df_scraping['Ano Fundacao'].astype(int)\n",
    "\n",
    "df_scraping['Ano IPO'] = pd.to_numeric(df_scraping['Ano IPO'])\n",
    "df_scraping['Ano IPO'] = df_scraping['Ano IPO'].astype(int)"
   ]
  },
  {
   "cell_type": "code",
   "execution_count": 18,
   "id": "9e5b31a3",
   "metadata": {},
   "outputs": [],
   "source": [
    "# Outras informações\n",
    "df_scraping['Idade'] = 2025 - df_scraping['Ano Fundacao']\n",
    "df_scraping['Tempo em Bolsa'] = 2025 - df_scraping['Ano IPO']\n",
    "\n",
    "# Concatenando as participações\n",
    "df_scraping['Peso Participacao'] = df_comp_ibov['Part. (%)'].tolist()"
   ]
  },
  {
   "cell_type": "code",
   "execution_count": 19,
   "id": "ece51f1f",
   "metadata": {},
   "outputs": [
    {
     "data": {
      "text/html": [
       "<div>\n",
       "<style scoped>\n",
       "    .dataframe tbody tr th:only-of-type {\n",
       "        vertical-align: middle;\n",
       "    }\n",
       "\n",
       "    .dataframe tbody tr th {\n",
       "        vertical-align: top;\n",
       "    }\n",
       "\n",
       "    .dataframe thead th {\n",
       "        text-align: right;\n",
       "    }\n",
       "</style>\n",
       "<table border=\"1\" class=\"dataframe\">\n",
       "  <thead>\n",
       "    <tr style=\"text-align: right;\">\n",
       "      <th></th>\n",
       "      <th>Ativo</th>\n",
       "      <th>Ano Fundacao</th>\n",
       "      <th>Ano IPO</th>\n",
       "      <th>Valor Mercado</th>\n",
       "      <th>Setor</th>\n",
       "      <th>Segmento</th>\n",
       "      <th>Idade</th>\n",
       "      <th>Tempo em Bolsa</th>\n",
       "      <th>Peso Participacao</th>\n",
       "    </tr>\n",
       "  </thead>\n",
       "  <tbody>\n",
       "    <tr>\n",
       "      <th>0</th>\n",
       "      <td>VALE3</td>\n",
       "      <td>1943</td>\n",
       "      <td>1970</td>\n",
       "      <td>223954633000</td>\n",
       "      <td>Materiais Básicos</td>\n",
       "      <td>Minerais Metálicos</td>\n",
       "      <td>82</td>\n",
       "      <td>55</td>\n",
       "      <td>11.595</td>\n",
       "    </tr>\n",
       "    <tr>\n",
       "      <th>1</th>\n",
       "      <td>ITUB4</td>\n",
       "      <td>1943</td>\n",
       "      <td>2002</td>\n",
       "      <td>313335024000</td>\n",
       "      <td>Financeiro</td>\n",
       "      <td>Bancos</td>\n",
       "      <td>82</td>\n",
       "      <td>23</td>\n",
       "      <td>7.925</td>\n",
       "    </tr>\n",
       "    <tr>\n",
       "      <th>2</th>\n",
       "      <td>PETR4</td>\n",
       "      <td>1953</td>\n",
       "      <td>1977</td>\n",
       "      <td>426601191000</td>\n",
       "      <td>Petróleo, Gás e Biocombustíveis</td>\n",
       "      <td>Exploração, Refino e Distribuição</td>\n",
       "      <td>72</td>\n",
       "      <td>48</td>\n",
       "      <td>7.884</td>\n",
       "    </tr>\n",
       "    <tr>\n",
       "      <th>3</th>\n",
       "      <td>PETR3</td>\n",
       "      <td>1953</td>\n",
       "      <td>1977</td>\n",
       "      <td>426601191000</td>\n",
       "      <td>Petróleo, Gás e Biocombustíveis</td>\n",
       "      <td>Exploração, Refino e Distribuição</td>\n",
       "      <td>72</td>\n",
       "      <td>48</td>\n",
       "      <td>4.409</td>\n",
       "    </tr>\n",
       "    <tr>\n",
       "      <th>4</th>\n",
       "      <td>ELET3</td>\n",
       "      <td>1962</td>\n",
       "      <td>1971</td>\n",
       "      <td>98986984000</td>\n",
       "      <td>Utilidade Pública</td>\n",
       "      <td>Energia Elétrica</td>\n",
       "      <td>63</td>\n",
       "      <td>54</td>\n",
       "      <td>3.862</td>\n",
       "    </tr>\n",
       "    <tr>\n",
       "      <th>...</th>\n",
       "      <td>...</td>\n",
       "      <td>...</td>\n",
       "      <td>...</td>\n",
       "      <td>...</td>\n",
       "      <td>...</td>\n",
       "      <td>...</td>\n",
       "      <td>...</td>\n",
       "      <td>...</td>\n",
       "      <td>...</td>\n",
       "    </tr>\n",
       "    <tr>\n",
       "      <th>82</th>\n",
       "      <td>PETZ3</td>\n",
       "      <td>2013</td>\n",
       "      <td>2020</td>\n",
       "      <td>1776090000</td>\n",
       "      <td>Consumo não Cíclico</td>\n",
       "      <td>Produtos Diversos</td>\n",
       "      <td>12</td>\n",
       "      <td>5</td>\n",
       "      <td>0.058</td>\n",
       "    </tr>\n",
       "    <tr>\n",
       "      <th>83</th>\n",
       "      <td>CVCB3</td>\n",
       "      <td>2009</td>\n",
       "      <td>2013</td>\n",
       "      <td>1035414000</td>\n",
       "      <td>Consumo Cíclico</td>\n",
       "      <td>Viagens e Turismo</td>\n",
       "      <td>16</td>\n",
       "      <td>12</td>\n",
       "      <td>0.053</td>\n",
       "    </tr>\n",
       "    <tr>\n",
       "      <th>84</th>\n",
       "      <td>AZUL4</td>\n",
       "      <td>2008</td>\n",
       "      <td>2017</td>\n",
       "      <td>986716000</td>\n",
       "      <td>Bens Industriais</td>\n",
       "      <td>Transporte Aéreo</td>\n",
       "      <td>17</td>\n",
       "      <td>8</td>\n",
       "      <td>0.051</td>\n",
       "    </tr>\n",
       "    <tr>\n",
       "      <th>85</th>\n",
       "      <td>LWSA3</td>\n",
       "      <td>1997</td>\n",
       "      <td>2020</td>\n",
       "      <td>1502906000</td>\n",
       "      <td>Tecnologia da Informação</td>\n",
       "      <td>Programas e Serviços</td>\n",
       "      <td>28</td>\n",
       "      <td>5</td>\n",
       "      <td>0.050</td>\n",
       "    </tr>\n",
       "    <tr>\n",
       "      <th>86</th>\n",
       "      <td>AMOB3</td>\n",
       "      <td>2024</td>\n",
       "      <td>2024</td>\n",
       "      <td>454632000</td>\n",
       "      <td>Consumo Cíclico</td>\n",
       "      <td>Automóveis e Motocicletas</td>\n",
       "      <td>1</td>\n",
       "      <td>1</td>\n",
       "      <td>0.006</td>\n",
       "    </tr>\n",
       "  </tbody>\n",
       "</table>\n",
       "<p>87 rows × 9 columns</p>\n",
       "</div>"
      ],
      "text/plain": [
       "    Ativo  Ano Fundacao  Ano IPO  Valor Mercado  \\\n",
       "0   VALE3          1943     1970   223954633000   \n",
       "1   ITUB4          1943     2002   313335024000   \n",
       "2   PETR4          1953     1977   426601191000   \n",
       "3   PETR3          1953     1977   426601191000   \n",
       "4   ELET3          1962     1971    98986984000   \n",
       "..    ...           ...      ...            ...   \n",
       "82  PETZ3          2013     2020     1776090000   \n",
       "83  CVCB3          2009     2013     1035414000   \n",
       "84  AZUL4          2008     2017      986716000   \n",
       "85  LWSA3          1997     2020     1502906000   \n",
       "86  AMOB3          2024     2024      454632000   \n",
       "\n",
       "                              Setor                           Segmento  Idade  \\\n",
       "0                 Materiais Básicos                 Minerais Metálicos     82   \n",
       "1                        Financeiro                             Bancos     82   \n",
       "2   Petróleo, Gás e Biocombustíveis  Exploração, Refino e Distribuição     72   \n",
       "3   Petróleo, Gás e Biocombustíveis  Exploração, Refino e Distribuição     72   \n",
       "4                 Utilidade Pública                   Energia Elétrica     63   \n",
       "..                              ...                                ...    ...   \n",
       "82              Consumo não Cíclico                  Produtos Diversos     12   \n",
       "83                  Consumo Cíclico                  Viagens e Turismo     16   \n",
       "84                 Bens Industriais                   Transporte Aéreo     17   \n",
       "85         Tecnologia da Informação               Programas e Serviços     28   \n",
       "86                  Consumo Cíclico          Automóveis e Motocicletas      1   \n",
       "\n",
       "    Tempo em Bolsa  Peso Participacao  \n",
       "0               55             11.595  \n",
       "1               23              7.925  \n",
       "2               48              7.884  \n",
       "3               48              4.409  \n",
       "4               54              3.862  \n",
       "..             ...                ...  \n",
       "82               5              0.058  \n",
       "83              12              0.053  \n",
       "84               8              0.051  \n",
       "85               5              0.050  \n",
       "86               1              0.006  \n",
       "\n",
       "[87 rows x 9 columns]"
      ]
     },
     "execution_count": 19,
     "metadata": {},
     "output_type": "execute_result"
    }
   ],
   "source": [
    "df_scraping"
   ]
  },
  {
   "cell_type": "code",
   "execution_count": 20,
   "id": "a4c50280",
   "metadata": {},
   "outputs": [],
   "source": [
    "# Salvando o dataset para futuras aplicações\n",
    "df_scraping.to_csv('data/scraping_ativos.csv', index=False, encoding='ISO-8859-1')"
   ]
  },
  {
   "cell_type": "markdown",
   "id": "281bff5a",
   "metadata": {},
   "source": [
    "## 1.3 Cotação dos Ativos"
   ]
  },
  {
   "cell_type": "markdown",
   "id": "3aced972",
   "metadata": {},
   "source": [
    "Neste caso com 87 ativos no IBOV nem todos talvez tenham a cotação por igual, por exemplo, ITUB4 o IPO é de 2002, AZUL4 é de 2017, logo, vamos puxar o periodo total de cada ativo.\n",
    "\n",
    "*Observação:* Depois em outra seção, certamente vamos filtrar os ativos por um periodo, claro, vamos verificar qual melhor periodo, pode ser que esta filtragem exclua alguns ativos e ver a correlação ou testar a hipotese se os percentuais continuam \"iguais\" ou se dá muita diferença. Mas agora vamos somente puxar os ativos."
   ]
  },
  {
   "cell_type": "code",
   "execution_count": 21,
   "id": "ff6e4970",
   "metadata": {},
   "outputs": [],
   "source": [
    "# Se for a primeira vez dos ativos esta funcao serve para baixar os arquivos, visto que fica dando erro no yahoofinance em\n",
    "# baixar alguns dados\n",
    "def download_ativos (tickers, save=True):\n",
    "    # Variaveis para guardar os ativos\n",
    "    dicionario_ativos = {}\n",
    "\n",
    "\n",
    "    # Baixar os dados históricos ()\n",
    "    df_hist = pd.DataFrame()\n",
    "    for acao in tickers:\n",
    "        print(acao)\n",
    "        dados = yf.download(acao, interval=\"1d\", period='max', multi_level_index=False)\n",
    "        \n",
    "        # Adicionar coluna com o nome da ação\n",
    "        dados[\"Ação\"] = acao\n",
    "        \n",
    "        # Transformando coluna date no tipo 'Date'\n",
    "        dados.index = pd.to_datetime(dados.index)\n",
    "        \n",
    "        # Colunas em PT\n",
    "        dados = dados.rename(columns={'Open': 'Abertura', 'High': 'Máxima', 'Low': 'Mínima', 'Close': 'Fechamento'})        \n",
    "        \n",
    "        # Transformando em Dataframe\n",
    "        df = pd.DataFrame(dados)\n",
    "        \n",
    "        # Resetando o indice e trazendo a coluna Data\n",
    "        df = df.reset_index()\n",
    "        \n",
    "        # Arredondando as casas decimais\n",
    "        df[['Abertura', 'Máxima', 'Mínima', 'Fechamento']] = df[['Abertura', 'Máxima', 'Mínima', 'Fechamento']].round(2)\n",
    "        \n",
    "        # Calculando o percentual\n",
    "        df['Percentual'] = (df['Fechamento'].shift(1) / df['Fechamento']) - 1\n",
    "        \n",
    "        # Retirando a primeira linha que nao tinha valor\n",
    "        df = df[1:]\n",
    "        \n",
    "        if save == True:\n",
    "            df.to_csv(f'data/acoes/{acao}.csv', encoding='ISO-8859-1')\n",
    "\n",
    "        dicionario_ativos[acao] = df\n",
    "        \n",
    "    return dicionario_ativos"
   ]
  },
  {
   "cell_type": "code",
   "execution_count": 22,
   "id": "631fd7ee",
   "metadata": {
    "scrolled": true
   },
   "outputs": [
    {
     "name": "stdout",
     "output_type": "stream",
     "text": [
      "87\n",
      "VALE3.SA\n",
      "YF.download() has changed argument auto_adjust default to True\n"
     ]
    },
    {
     "name": "stderr",
     "output_type": "stream",
     "text": [
      "[*********************100%***********************]  1 of 1 completed\n"
     ]
    },
    {
     "name": "stdout",
     "output_type": "stream",
     "text": [
      "ITUB4.SA\n"
     ]
    },
    {
     "name": "stderr",
     "output_type": "stream",
     "text": [
      "[*********************100%***********************]  1 of 1 completed\n"
     ]
    },
    {
     "name": "stdout",
     "output_type": "stream",
     "text": [
      "PETR4.SA\n"
     ]
    },
    {
     "name": "stderr",
     "output_type": "stream",
     "text": [
      "[*********************100%***********************]  1 of 1 completed\n"
     ]
    },
    {
     "name": "stdout",
     "output_type": "stream",
     "text": [
      "PETR3.SA\n"
     ]
    },
    {
     "name": "stderr",
     "output_type": "stream",
     "text": [
      "[*********************100%***********************]  1 of 1 completed\n"
     ]
    },
    {
     "name": "stdout",
     "output_type": "stream",
     "text": [
      "ELET3.SA\n"
     ]
    },
    {
     "name": "stderr",
     "output_type": "stream",
     "text": [
      "[*********************100%***********************]  1 of 1 completed\n"
     ]
    },
    {
     "name": "stdout",
     "output_type": "stream",
     "text": [
      "BBAS3.SA\n"
     ]
    },
    {
     "name": "stderr",
     "output_type": "stream",
     "text": [
      "[*********************100%***********************]  1 of 1 completed\n"
     ]
    },
    {
     "name": "stdout",
     "output_type": "stream",
     "text": [
      "SBSP3.SA\n"
     ]
    },
    {
     "name": "stderr",
     "output_type": "stream",
     "text": [
      "[*********************100%***********************]  1 of 1 completed\n"
     ]
    },
    {
     "name": "stdout",
     "output_type": "stream",
     "text": [
      "B3SA3.SA\n"
     ]
    },
    {
     "name": "stderr",
     "output_type": "stream",
     "text": [
      "[*********************100%***********************]  1 of 1 completed\n"
     ]
    },
    {
     "name": "stdout",
     "output_type": "stream",
     "text": [
      "BBDC4.SA\n"
     ]
    },
    {
     "name": "stderr",
     "output_type": "stream",
     "text": [
      "[*********************100%***********************]  1 of 1 completed\n"
     ]
    },
    {
     "name": "stdout",
     "output_type": "stream",
     "text": [
      "ABEV3.SA\n"
     ]
    },
    {
     "name": "stderr",
     "output_type": "stream",
     "text": [
      "[*********************100%***********************]  1 of 1 completed\n"
     ]
    },
    {
     "name": "stdout",
     "output_type": "stream",
     "text": [
      "WEGE3.SA\n"
     ]
    },
    {
     "name": "stderr",
     "output_type": "stream",
     "text": [
      "[*********************100%***********************]  1 of 1 completed\n"
     ]
    },
    {
     "name": "stdout",
     "output_type": "stream",
     "text": [
      "ITSA4.SA\n"
     ]
    },
    {
     "name": "stderr",
     "output_type": "stream",
     "text": [
      "[*********************100%***********************]  1 of 1 completed\n"
     ]
    },
    {
     "name": "stdout",
     "output_type": "stream",
     "text": [
      "EMBR3.SA\n"
     ]
    },
    {
     "name": "stderr",
     "output_type": "stream",
     "text": [
      "[*********************100%***********************]  1 of 1 completed\n"
     ]
    },
    {
     "name": "stdout",
     "output_type": "stream",
     "text": [
      "JBSS3.SA\n"
     ]
    },
    {
     "name": "stderr",
     "output_type": "stream",
     "text": [
      "[*********************100%***********************]  1 of 1 completed\n"
     ]
    },
    {
     "name": "stdout",
     "output_type": "stream",
     "text": [
      "BPAC11.SA\n"
     ]
    },
    {
     "name": "stderr",
     "output_type": "stream",
     "text": [
      "[*********************100%***********************]  1 of 1 completed\n"
     ]
    },
    {
     "name": "stdout",
     "output_type": "stream",
     "text": [
      "EQTL3.SA\n"
     ]
    },
    {
     "name": "stderr",
     "output_type": "stream",
     "text": [
      "[*********************100%***********************]  1 of 1 completed\n"
     ]
    },
    {
     "name": "stdout",
     "output_type": "stream",
     "text": [
      "SUZB3.SA\n"
     ]
    },
    {
     "name": "stderr",
     "output_type": "stream",
     "text": [
      "[*********************100%***********************]  1 of 1 completed\n"
     ]
    },
    {
     "name": "stdout",
     "output_type": "stream",
     "text": [
      "RENT3.SA\n"
     ]
    },
    {
     "name": "stderr",
     "output_type": "stream",
     "text": [
      "[*********************100%***********************]  1 of 1 completed\n"
     ]
    },
    {
     "name": "stdout",
     "output_type": "stream",
     "text": [
      "RDOR3.SA\n"
     ]
    },
    {
     "name": "stderr",
     "output_type": "stream",
     "text": [
      "[*********************100%***********************]  1 of 1 completed\n"
     ]
    },
    {
     "name": "stdout",
     "output_type": "stream",
     "text": [
      "PRIO3.SA\n"
     ]
    },
    {
     "name": "stderr",
     "output_type": "stream",
     "text": [
      "[*********************100%***********************]  1 of 1 completed\n"
     ]
    },
    {
     "name": "stdout",
     "output_type": "stream",
     "text": [
      "BBSE3.SA\n"
     ]
    },
    {
     "name": "stderr",
     "output_type": "stream",
     "text": [
      "[*********************100%***********************]  1 of 1 completed\n"
     ]
    },
    {
     "name": "stdout",
     "output_type": "stream",
     "text": [
      "RADL3.SA\n"
     ]
    },
    {
     "name": "stderr",
     "output_type": "stream",
     "text": [
      "[*********************100%***********************]  1 of 1 completed\n"
     ]
    },
    {
     "name": "stdout",
     "output_type": "stream",
     "text": [
      "ENEV3.SA\n"
     ]
    },
    {
     "name": "stderr",
     "output_type": "stream",
     "text": [
      "[*********************100%***********************]  1 of 1 completed\n"
     ]
    },
    {
     "name": "stdout",
     "output_type": "stream",
     "text": [
      "GGBR4.SA\n"
     ]
    },
    {
     "name": "stderr",
     "output_type": "stream",
     "text": [
      "[*********************100%***********************]  1 of 1 completed\n"
     ]
    },
    {
     "name": "stdout",
     "output_type": "stream",
     "text": [
      "RAIL3.SA\n"
     ]
    },
    {
     "name": "stderr",
     "output_type": "stream",
     "text": [
      "[*********************100%***********************]  1 of 1 completed\n"
     ]
    },
    {
     "name": "stdout",
     "output_type": "stream",
     "text": [
      "CMIG4.SA\n"
     ]
    },
    {
     "name": "stderr",
     "output_type": "stream",
     "text": [
      "[*********************100%***********************]  1 of 1 completed\n"
     ]
    },
    {
     "name": "stdout",
     "output_type": "stream",
     "text": [
      "VIVT3.SA\n"
     ]
    },
    {
     "name": "stderr",
     "output_type": "stream",
     "text": [
      "[*********************100%***********************]  1 of 1 completed\n"
     ]
    },
    {
     "name": "stdout",
     "output_type": "stream",
     "text": [
      "UGPA3.SA\n"
     ]
    },
    {
     "name": "stderr",
     "output_type": "stream",
     "text": [
      "[*********************100%***********************]  1 of 1 completed\n"
     ]
    },
    {
     "name": "stdout",
     "output_type": "stream",
     "text": [
      "VBBR3.SA\n"
     ]
    },
    {
     "name": "stderr",
     "output_type": "stream",
     "text": [
      "[*********************100%***********************]  1 of 1 completed\n"
     ]
    },
    {
     "name": "stdout",
     "output_type": "stream",
     "text": [
      "TOTS3.SA\n"
     ]
    },
    {
     "name": "stderr",
     "output_type": "stream",
     "text": [
      "[*********************100%***********************]  1 of 1 completed\n"
     ]
    },
    {
     "name": "stdout",
     "output_type": "stream",
     "text": [
      "CPLE6.SA\n"
     ]
    },
    {
     "name": "stderr",
     "output_type": "stream",
     "text": [
      "[*********************100%***********************]  1 of 1 completed\n"
     ]
    },
    {
     "name": "stdout",
     "output_type": "stream",
     "text": [
      "BBDC3.SA\n"
     ]
    },
    {
     "name": "stderr",
     "output_type": "stream",
     "text": [
      "[*********************100%***********************]  1 of 1 completed\n"
     ]
    },
    {
     "name": "stdout",
     "output_type": "stream",
     "text": [
      "BRFS3.SA\n"
     ]
    },
    {
     "name": "stderr",
     "output_type": "stream",
     "text": [
      "[*********************100%***********************]  1 of 1 completed\n"
     ]
    },
    {
     "name": "stdout",
     "output_type": "stream",
     "text": [
      "TIMS3.SA\n"
     ]
    },
    {
     "name": "stderr",
     "output_type": "stream",
     "text": [
      "[*********************100%***********************]  1 of 1 completed\n"
     ]
    },
    {
     "name": "stdout",
     "output_type": "stream",
     "text": [
      "KLBN11.SA\n"
     ]
    },
    {
     "name": "stderr",
     "output_type": "stream",
     "text": [
      "[*********************100%***********************]  1 of 1 completed\n"
     ]
    },
    {
     "name": "stdout",
     "output_type": "stream",
     "text": [
      "ENGI11.SA\n"
     ]
    },
    {
     "name": "stderr",
     "output_type": "stream",
     "text": [
      "[*********************100%***********************]  1 of 1 completed\n"
     ]
    },
    {
     "name": "stdout",
     "output_type": "stream",
     "text": [
      "LREN3.SA\n"
     ]
    },
    {
     "name": "stderr",
     "output_type": "stream",
     "text": [
      "[*********************100%***********************]  1 of 1 completed\n"
     ]
    },
    {
     "name": "stdout",
     "output_type": "stream",
     "text": [
      "ELET6.SA\n"
     ]
    },
    {
     "name": "stderr",
     "output_type": "stream",
     "text": [
      "[*********************100%***********************]  1 of 1 completed\n"
     ]
    },
    {
     "name": "stdout",
     "output_type": "stream",
     "text": [
      "CCRO3.SA\n"
     ]
    },
    {
     "name": "stderr",
     "output_type": "stream",
     "text": [
      "[*********************100%***********************]  1 of 1 completed\n"
     ]
    },
    {
     "name": "stdout",
     "output_type": "stream",
     "text": [
      "STBP3.SA\n"
     ]
    },
    {
     "name": "stderr",
     "output_type": "stream",
     "text": [
      "[*********************100%***********************]  1 of 1 completed\n"
     ]
    },
    {
     "name": "stdout",
     "output_type": "stream",
     "text": [
      "BRAV3.SA\n"
     ]
    },
    {
     "name": "stderr",
     "output_type": "stream",
     "text": [
      "[*********************100%***********************]  1 of 1 completed\n"
     ]
    },
    {
     "name": "stdout",
     "output_type": "stream",
     "text": [
      "HAPV3.SA\n"
     ]
    },
    {
     "name": "stderr",
     "output_type": "stream",
     "text": [
      "[*********************100%***********************]  1 of 1 completed\n"
     ]
    },
    {
     "name": "stdout",
     "output_type": "stream",
     "text": [
      "CMIN3.SA\n"
     ]
    },
    {
     "name": "stderr",
     "output_type": "stream",
     "text": [
      "[*********************100%***********************]  1 of 1 completed\n"
     ]
    },
    {
     "name": "stdout",
     "output_type": "stream",
     "text": [
      "ASAI3.SA\n"
     ]
    },
    {
     "name": "stderr",
     "output_type": "stream",
     "text": [
      "[*********************100%***********************]  1 of 1 completed\n"
     ]
    },
    {
     "name": "stdout",
     "output_type": "stream",
     "text": [
      "EGIE3.SA\n"
     ]
    },
    {
     "name": "stderr",
     "output_type": "stream",
     "text": [
      "[*********************100%***********************]  1 of 1 completed\n"
     ]
    },
    {
     "name": "stdout",
     "output_type": "stream",
     "text": [
      "SANB11.SA\n"
     ]
    },
    {
     "name": "stderr",
     "output_type": "stream",
     "text": [
      "[*********************100%***********************]  1 of 1 completed\n"
     ]
    },
    {
     "name": "stdout",
     "output_type": "stream",
     "text": [
      "ALOS3.SA\n"
     ]
    },
    {
     "name": "stderr",
     "output_type": "stream",
     "text": [
      "[*********************100%***********************]  1 of 1 completed\n"
     ]
    },
    {
     "name": "stdout",
     "output_type": "stream",
     "text": [
      "ISAE4.SA\n"
     ]
    },
    {
     "name": "stderr",
     "output_type": "stream",
     "text": [
      "[*********************100%***********************]  1 of 1 completed\n"
     ]
    },
    {
     "name": "stdout",
     "output_type": "stream",
     "text": [
      "NTCO3.SA\n"
     ]
    },
    {
     "name": "stderr",
     "output_type": "stream",
     "text": [
      "[*********************100%***********************]  1 of 1 completed\n"
     ]
    },
    {
     "name": "stdout",
     "output_type": "stream",
     "text": [
      "CSAN3.SA\n"
     ]
    },
    {
     "name": "stderr",
     "output_type": "stream",
     "text": [
      "[*********************100%***********************]  1 of 1 completed\n"
     ]
    },
    {
     "name": "stdout",
     "output_type": "stream",
     "text": [
      "CXSE3.SA\n"
     ]
    },
    {
     "name": "stderr",
     "output_type": "stream",
     "text": [
      "[*********************100%***********************]  1 of 1 completed\n"
     ]
    },
    {
     "name": "stdout",
     "output_type": "stream",
     "text": [
      "TAEE11.SA\n"
     ]
    },
    {
     "name": "stderr",
     "output_type": "stream",
     "text": [
      "[*********************100%***********************]  1 of 1 completed\n"
     ]
    },
    {
     "name": "stdout",
     "output_type": "stream",
     "text": [
      "PSSA3.SA\n"
     ]
    },
    {
     "name": "stderr",
     "output_type": "stream",
     "text": [
      "[*********************100%***********************]  1 of 1 completed\n"
     ]
    },
    {
     "name": "stdout",
     "output_type": "stream",
     "text": [
      "HYPE3.SA\n"
     ]
    },
    {
     "name": "stderr",
     "output_type": "stream",
     "text": [
      "[*********************100%***********************]  1 of 1 completed\n"
     ]
    },
    {
     "name": "stdout",
     "output_type": "stream",
     "text": [
      "CPFE3.SA\n"
     ]
    },
    {
     "name": "stderr",
     "output_type": "stream",
     "text": [
      "[*********************100%***********************]  1 of 1 completed\n"
     ]
    },
    {
     "name": "stdout",
     "output_type": "stream",
     "text": [
      "MULT3.SA\n"
     ]
    },
    {
     "name": "stderr",
     "output_type": "stream",
     "text": [
      "[*********************100%***********************]  1 of 1 completed\n"
     ]
    },
    {
     "name": "stdout",
     "output_type": "stream",
     "text": [
      "CSNA3.SA\n"
     ]
    },
    {
     "name": "stderr",
     "output_type": "stream",
     "text": [
      "[*********************100%***********************]  1 of 1 completed\n"
     ]
    },
    {
     "name": "stdout",
     "output_type": "stream",
     "text": [
      "CYRE3.SA\n"
     ]
    },
    {
     "name": "stderr",
     "output_type": "stream",
     "text": [
      "[*********************100%***********************]  1 of 1 completed\n"
     ]
    },
    {
     "name": "stdout",
     "output_type": "stream",
     "text": [
      "GOAU4.SA\n"
     ]
    },
    {
     "name": "stderr",
     "output_type": "stream",
     "text": [
      "[*********************100%***********************]  1 of 1 completed\n"
     ]
    },
    {
     "name": "stdout",
     "output_type": "stream",
     "text": [
      "MRFG3.SA\n"
     ]
    },
    {
     "name": "stderr",
     "output_type": "stream",
     "text": [
      "[*********************100%***********************]  1 of 1 completed\n"
     ]
    },
    {
     "name": "stdout",
     "output_type": "stream",
     "text": [
      "FLRY3.SA\n"
     ]
    },
    {
     "name": "stderr",
     "output_type": "stream",
     "text": [
      "[*********************100%***********************]  1 of 1 completed\n"
     ]
    },
    {
     "name": "stdout",
     "output_type": "stream",
     "text": [
      "RECV3.SA\n"
     ]
    },
    {
     "name": "stderr",
     "output_type": "stream",
     "text": [
      "[*********************100%***********************]  1 of 1 completed\n"
     ]
    },
    {
     "name": "stdout",
     "output_type": "stream",
     "text": [
      "BRAP4.SA\n"
     ]
    },
    {
     "name": "stderr",
     "output_type": "stream",
     "text": [
      "[*********************100%***********************]  1 of 1 completed\n"
     ]
    },
    {
     "name": "stdout",
     "output_type": "stream",
     "text": [
      "IRBR3.SA\n"
     ]
    },
    {
     "name": "stderr",
     "output_type": "stream",
     "text": [
      "[*********************100%***********************]  1 of 1 completed\n"
     ]
    },
    {
     "name": "stdout",
     "output_type": "stream",
     "text": [
      "POMO4.SA\n"
     ]
    },
    {
     "name": "stderr",
     "output_type": "stream",
     "text": [
      "[*********************100%***********************]  1 of 1 completed\n"
     ]
    },
    {
     "name": "stdout",
     "output_type": "stream",
     "text": [
      "IGTI11.SA\n"
     ]
    },
    {
     "name": "stderr",
     "output_type": "stream",
     "text": [
      "[*********************100%***********************]  1 of 1 completed\n"
     ]
    },
    {
     "name": "stdout",
     "output_type": "stream",
     "text": [
      "COGN3.SA\n"
     ]
    },
    {
     "name": "stderr",
     "output_type": "stream",
     "text": [
      "[*********************100%***********************]  1 of 1 completed\n"
     ]
    },
    {
     "name": "stdout",
     "output_type": "stream",
     "text": [
      "CRFB3.SA\n"
     ]
    },
    {
     "name": "stderr",
     "output_type": "stream",
     "text": [
      "[*********************100%***********************]  1 of 1 completed\n"
     ]
    },
    {
     "name": "stdout",
     "output_type": "stream",
     "text": [
      "SLCE3.SA\n"
     ]
    },
    {
     "name": "stderr",
     "output_type": "stream",
     "text": [
      "[*********************100%***********************]  1 of 1 completed\n"
     ]
    },
    {
     "name": "stdout",
     "output_type": "stream",
     "text": [
      "MGLU3.SA\n"
     ]
    },
    {
     "name": "stderr",
     "output_type": "stream",
     "text": [
      "[*********************100%***********************]  1 of 1 completed\n"
     ]
    },
    {
     "name": "stdout",
     "output_type": "stream",
     "text": [
      "AZZA3.SA\n"
     ]
    },
    {
     "name": "stderr",
     "output_type": "stream",
     "text": [
      "[*********************100%***********************]  1 of 1 completed\n"
     ]
    },
    {
     "name": "stdout",
     "output_type": "stream",
     "text": [
      "YDUQ3.SA\n"
     ]
    },
    {
     "name": "stderr",
     "output_type": "stream",
     "text": [
      "[*********************100%***********************]  1 of 1 completed\n"
     ]
    },
    {
     "name": "stdout",
     "output_type": "stream",
     "text": [
      "BRKM5.SA\n"
     ]
    },
    {
     "name": "stderr",
     "output_type": "stream",
     "text": [
      "[*********************100%***********************]  1 of 1 completed\n"
     ]
    },
    {
     "name": "stdout",
     "output_type": "stream",
     "text": [
      "USIM5.SA\n"
     ]
    },
    {
     "name": "stderr",
     "output_type": "stream",
     "text": [
      "[*********************100%***********************]  1 of 1 completed\n"
     ]
    },
    {
     "name": "stdout",
     "output_type": "stream",
     "text": [
      "SMTO3.SA\n"
     ]
    },
    {
     "name": "stderr",
     "output_type": "stream",
     "text": [
      "[*********************100%***********************]  1 of 1 completed\n"
     ]
    },
    {
     "name": "stdout",
     "output_type": "stream",
     "text": [
      "VIVA3.SA\n"
     ]
    },
    {
     "name": "stderr",
     "output_type": "stream",
     "text": [
      "[*********************100%***********************]  1 of 1 completed\n"
     ]
    },
    {
     "name": "stdout",
     "output_type": "stream",
     "text": [
      "AURE3.SA\n"
     ]
    },
    {
     "name": "stderr",
     "output_type": "stream",
     "text": [
      "[*********************100%***********************]  1 of 1 completed\n"
     ]
    },
    {
     "name": "stdout",
     "output_type": "stream",
     "text": [
      "RAIZ4.SA\n"
     ]
    },
    {
     "name": "stderr",
     "output_type": "stream",
     "text": [
      "[*********************100%***********************]  1 of 1 completed\n"
     ]
    },
    {
     "name": "stdout",
     "output_type": "stream",
     "text": [
      "VAMO3.SA\n"
     ]
    },
    {
     "name": "stderr",
     "output_type": "stream",
     "text": [
      "[*********************100%***********************]  1 of 1 completed\n"
     ]
    },
    {
     "name": "stdout",
     "output_type": "stream",
     "text": [
      "MRVE3.SA\n"
     ]
    },
    {
     "name": "stderr",
     "output_type": "stream",
     "text": [
      "[*********************100%***********************]  1 of 1 completed\n"
     ]
    },
    {
     "name": "stdout",
     "output_type": "stream",
     "text": [
      "BEEF3.SA\n"
     ]
    },
    {
     "name": "stderr",
     "output_type": "stream",
     "text": [
      "[*********************100%***********************]  1 of 1 completed\n"
     ]
    },
    {
     "name": "stdout",
     "output_type": "stream",
     "text": [
      "PCAR3.SA\n"
     ]
    },
    {
     "name": "stderr",
     "output_type": "stream",
     "text": [
      "[*********************100%***********************]  1 of 1 completed\n"
     ]
    },
    {
     "name": "stdout",
     "output_type": "stream",
     "text": [
      "PETZ3.SA\n"
     ]
    },
    {
     "name": "stderr",
     "output_type": "stream",
     "text": [
      "[*********************100%***********************]  1 of 1 completed\n"
     ]
    },
    {
     "name": "stdout",
     "output_type": "stream",
     "text": [
      "CVCB3.SA\n"
     ]
    },
    {
     "name": "stderr",
     "output_type": "stream",
     "text": [
      "[*********************100%***********************]  1 of 1 completed\n"
     ]
    },
    {
     "name": "stdout",
     "output_type": "stream",
     "text": [
      "AZUL4.SA\n"
     ]
    },
    {
     "name": "stderr",
     "output_type": "stream",
     "text": [
      "[*********************100%***********************]  1 of 1 completed\n"
     ]
    },
    {
     "name": "stdout",
     "output_type": "stream",
     "text": [
      "LWSA3.SA\n"
     ]
    },
    {
     "name": "stderr",
     "output_type": "stream",
     "text": [
      "[*********************100%***********************]  1 of 1 completed\n",
      "[*********************100%***********************]  1 of 1 completed"
     ]
    },
    {
     "name": "stdout",
     "output_type": "stream",
     "text": [
      "AMOB3.SA\n"
     ]
    },
    {
     "name": "stderr",
     "output_type": "stream",
     "text": [
      "\n"
     ]
    }
   ],
   "source": [
    "# Os tickers do yfinance exige um .SA no final\n",
    "tickers = df_scraping['Ativo'] + '.SA'\n",
    "\n",
    "# Verificando a quantidade\n",
    "print(len(tickers))\n",
    "\n",
    "# Realizar o download\n",
    "dicionario_ativos = download_ativos (tickers)"
   ]
  },
  {
   "cell_type": "code",
   "execution_count": 23,
   "id": "9fc29175",
   "metadata": {},
   "outputs": [
    {
     "data": {
      "text/html": [
       "<div>\n",
       "<style scoped>\n",
       "    .dataframe tbody tr th:only-of-type {\n",
       "        vertical-align: middle;\n",
       "    }\n",
       "\n",
       "    .dataframe tbody tr th {\n",
       "        vertical-align: top;\n",
       "    }\n",
       "\n",
       "    .dataframe thead th {\n",
       "        text-align: right;\n",
       "    }\n",
       "</style>\n",
       "<table border=\"1\" class=\"dataframe\">\n",
       "  <thead>\n",
       "    <tr style=\"text-align: right;\">\n",
       "      <th></th>\n",
       "      <th>Date</th>\n",
       "      <th>Fechamento</th>\n",
       "      <th>Máxima</th>\n",
       "      <th>Mínima</th>\n",
       "      <th>Abertura</th>\n",
       "      <th>Volume</th>\n",
       "      <th>Ação</th>\n",
       "      <th>Percentual</th>\n",
       "    </tr>\n",
       "  </thead>\n",
       "  <tbody>\n",
       "    <tr>\n",
       "      <th>1</th>\n",
       "      <td>2000-01-04</td>\n",
       "      <td>1.48</td>\n",
       "      <td>1.51</td>\n",
       "      <td>1.48</td>\n",
       "      <td>1.51</td>\n",
       "      <td>782400</td>\n",
       "      <td>VALE3.SA</td>\n",
       "      <td>0.027027</td>\n",
       "    </tr>\n",
       "    <tr>\n",
       "      <th>2</th>\n",
       "      <td>2000-01-05</td>\n",
       "      <td>1.48</td>\n",
       "      <td>1.48</td>\n",
       "      <td>1.47</td>\n",
       "      <td>1.47</td>\n",
       "      <td>1876800</td>\n",
       "      <td>VALE3.SA</td>\n",
       "      <td>0.000000</td>\n",
       "    </tr>\n",
       "    <tr>\n",
       "      <th>3</th>\n",
       "      <td>2000-01-06</td>\n",
       "      <td>1.48</td>\n",
       "      <td>1.52</td>\n",
       "      <td>1.48</td>\n",
       "      <td>1.48</td>\n",
       "      <td>792000</td>\n",
       "      <td>VALE3.SA</td>\n",
       "      <td>0.000000</td>\n",
       "    </tr>\n",
       "    <tr>\n",
       "      <th>4</th>\n",
       "      <td>2000-01-07</td>\n",
       "      <td>1.54</td>\n",
       "      <td>1.55</td>\n",
       "      <td>1.50</td>\n",
       "      <td>1.50</td>\n",
       "      <td>5347200</td>\n",
       "      <td>VALE3.SA</td>\n",
       "      <td>-0.038961</td>\n",
       "    </tr>\n",
       "    <tr>\n",
       "      <th>5</th>\n",
       "      <td>2000-01-10</td>\n",
       "      <td>1.66</td>\n",
       "      <td>1.66</td>\n",
       "      <td>1.63</td>\n",
       "      <td>1.63</td>\n",
       "      <td>2980800</td>\n",
       "      <td>VALE3.SA</td>\n",
       "      <td>-0.072289</td>\n",
       "    </tr>\n",
       "    <tr>\n",
       "      <th>...</th>\n",
       "      <td>...</td>\n",
       "      <td>...</td>\n",
       "      <td>...</td>\n",
       "      <td>...</td>\n",
       "      <td>...</td>\n",
       "      <td>...</td>\n",
       "      <td>...</td>\n",
       "      <td>...</td>\n",
       "    </tr>\n",
       "    <tr>\n",
       "      <th>72</th>\n",
       "      <td>2025-04-03</td>\n",
       "      <td>0.26</td>\n",
       "      <td>0.27</td>\n",
       "      <td>0.25</td>\n",
       "      <td>0.25</td>\n",
       "      <td>11801000</td>\n",
       "      <td>AMOB3.SA</td>\n",
       "      <td>0.000000</td>\n",
       "    </tr>\n",
       "    <tr>\n",
       "      <th>73</th>\n",
       "      <td>2025-04-04</td>\n",
       "      <td>0.25</td>\n",
       "      <td>0.26</td>\n",
       "      <td>0.24</td>\n",
       "      <td>0.26</td>\n",
       "      <td>11478800</td>\n",
       "      <td>AMOB3.SA</td>\n",
       "      <td>0.040000</td>\n",
       "    </tr>\n",
       "    <tr>\n",
       "      <th>74</th>\n",
       "      <td>2025-04-07</td>\n",
       "      <td>0.25</td>\n",
       "      <td>0.25</td>\n",
       "      <td>0.24</td>\n",
       "      <td>0.25</td>\n",
       "      <td>7155300</td>\n",
       "      <td>AMOB3.SA</td>\n",
       "      <td>0.000000</td>\n",
       "    </tr>\n",
       "    <tr>\n",
       "      <th>75</th>\n",
       "      <td>2025-04-08</td>\n",
       "      <td>0.24</td>\n",
       "      <td>0.26</td>\n",
       "      <td>0.23</td>\n",
       "      <td>0.25</td>\n",
       "      <td>17096600</td>\n",
       "      <td>AMOB3.SA</td>\n",
       "      <td>0.041667</td>\n",
       "    </tr>\n",
       "    <tr>\n",
       "      <th>76</th>\n",
       "      <td>2025-04-09</td>\n",
       "      <td>0.25</td>\n",
       "      <td>0.25</td>\n",
       "      <td>0.23</td>\n",
       "      <td>0.24</td>\n",
       "      <td>2429400</td>\n",
       "      <td>AMOB3.SA</td>\n",
       "      <td>-0.040000</td>\n",
       "    </tr>\n",
       "  </tbody>\n",
       "</table>\n",
       "<p>363529 rows × 8 columns</p>\n",
       "</div>"
      ],
      "text/plain": [
       "         Date  Fechamento  Máxima  Mínima  Abertura    Volume      Ação  \\\n",
       "1  2000-01-04        1.48    1.51    1.48      1.51    782400  VALE3.SA   \n",
       "2  2000-01-05        1.48    1.48    1.47      1.47   1876800  VALE3.SA   \n",
       "3  2000-01-06        1.48    1.52    1.48      1.48    792000  VALE3.SA   \n",
       "4  2000-01-07        1.54    1.55    1.50      1.50   5347200  VALE3.SA   \n",
       "5  2000-01-10        1.66    1.66    1.63      1.63   2980800  VALE3.SA   \n",
       "..        ...         ...     ...     ...       ...       ...       ...   \n",
       "72 2025-04-03        0.26    0.27    0.25      0.25  11801000  AMOB3.SA   \n",
       "73 2025-04-04        0.25    0.26    0.24      0.26  11478800  AMOB3.SA   \n",
       "74 2025-04-07        0.25    0.25    0.24      0.25   7155300  AMOB3.SA   \n",
       "75 2025-04-08        0.24    0.26    0.23      0.25  17096600  AMOB3.SA   \n",
       "76 2025-04-09        0.25    0.25    0.23      0.24   2429400  AMOB3.SA   \n",
       "\n",
       "    Percentual  \n",
       "1     0.027027  \n",
       "2     0.000000  \n",
       "3     0.000000  \n",
       "4    -0.038961  \n",
       "5    -0.072289  \n",
       "..         ...  \n",
       "72    0.000000  \n",
       "73    0.040000  \n",
       "74    0.000000  \n",
       "75    0.041667  \n",
       "76   -0.040000  \n",
       "\n",
       "[363529 rows x 8 columns]"
      ]
     },
     "metadata": {},
     "output_type": "display_data"
    }
   ],
   "source": [
    "# colocando tudo em df de cotacao\n",
    "df_cotacao = pd.DataFrame()\n",
    "\n",
    "for acao in tickers:\n",
    "    df_cotacao = pd.concat([df_cotacao, dicionario_ativos[acao]], axis=0)\n",
    "    \n",
    "# Visualizando todas as cotações\n",
    "display(df_cotacao)"
   ]
  },
  {
   "cell_type": "code",
   "execution_count": 25,
   "id": "69070b11",
   "metadata": {},
   "outputs": [],
   "source": [
    "# Realizando alguns tratamentos\n",
    "df_cotacao = df_cotacao.drop(columns=['Máxima', 'Mínima', 'Abertura', 'Volume'])\n",
    "\n",
    "df_cotacao = df_cotacao.rename({'Fechamento': 'Cotacao', 'Ação': 'Ativo'}, axis=1)\n",
    "\n",
    "df_cotacao['Ativo'] = df_cotacao['Ativo'].str.replace('.SA', '')\n",
    "\n",
    "df_cotacao['Percentual'] = df_cotacao['Percentual'].round(4)"
   ]
  },
  {
   "cell_type": "code",
   "execution_count": 27,
   "id": "60b74bcf",
   "metadata": {},
   "outputs": [],
   "source": [
    "# Salvando o dataset para futuras aplicações\n",
    "df_cotacao.to_csv('data/cotacao_ativos.csv', index=False, encoding='ISO-8859-1')"
   ]
  }
 ],
 "metadata": {
  "kernelspec": {
   "display_name": "Python 3 (ipykernel)",
   "language": "python",
   "name": "python3"
  },
  "language_info": {
   "codemirror_mode": {
    "name": "ipython",
    "version": 3
   },
   "file_extension": ".py",
   "mimetype": "text/x-python",
   "name": "python",
   "nbconvert_exporter": "python",
   "pygments_lexer": "ipython3",
   "version": "3.11.5"
  }
 },
 "nbformat": 4,
 "nbformat_minor": 5
}
